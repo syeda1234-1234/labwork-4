{
 "cells": [
  {
   "cell_type": "code",
   "execution_count": 1,
   "id": "33696091",
   "metadata": {},
   "outputs": [],
   "source": [
    "import numpy as np\n",
    "import matplotlib.pyplot as plt"
   ]
  },
  {
   "cell_type": "code",
   "execution_count": 21,
   "id": "2150213d",
   "metadata": {},
   "outputs": [
    {
     "name": "stdout",
     "output_type": "stream",
     "text": [
      "\t f'(x)\t\t err\t\t f''(x)\t\t err\n"
     ]
    }
   ],
   "source": [
    "f= lambda x: 0.1*x**5 - 0.2*x**3 + 0.1*x - 0.2\n",
    "x = 0.1\n",
    "h = 0.01\n",
    "df1 = 0.09405\n",
    "df2 = -0.118\n",
    "print(\"\\t f'(x)\\t\\t err\\t\\t f''(x)\\t\\t err\")\n"
   ]
  },
  {
   "cell_type": "code",
   "execution_count": 22,
   "id": "7f83b8d6",
   "metadata": {},
   "outputs": [
    {
     "name": "stdout",
     "output_type": "stream",
     "text": [
      "FFD\t 0.093441\t-0.000609\t-0.129327\t-0.011327\n"
     ]
    }
   ],
   "source": [
    "dff1 = (f(x+h)-f(x))/h\n",
    "dff2 = (f(x+2*h)-2*f(x+h)+f(x))/h**2\n",
    "print(\"FFD\\t% f\\t% f\\t% f\\t% f\"%(dff1, dff1-df1, dff2 ,dff2-df2))"
   ]
  },
  {
   "cell_type": "code",
   "execution_count": 23,
   "id": "6aa159eb",
   "metadata": {},
   "outputs": [
    {
     "name": "stdout",
     "output_type": "stream",
     "text": [
      "BFD\t 0.094621\t 0.000571\t-0.106533\t 0.011467\n"
     ]
    }
   ],
   "source": [
    "dff1 = (f(x)-f(x-h))/h\n",
    "dff2 = (f(x)-2*f(x-h)+f(x-2*h))/h**2\n",
    "print(\"BFD\\t% f\\t% f\\t% f\\t% f\"%(dff1,dff1-df1,dff2,dff2-df2))"
   ]
  },
  {
   "cell_type": "code",
   "execution_count": 24,
   "id": "0ffb65f7",
   "metadata": {},
   "outputs": [
    {
     "name": "stdout",
     "output_type": "stream",
     "text": [
      "CED\t 0.094031\t-0.000019\t-0.117990\t 0.000010\n"
     ]
    }
   ],
   "source": [
    "dff1 = (f(x+h)-f(x-h))/(2*h)\n",
    "dff2 = (f(x+h)-2*f(x)+f(x-h))/h**2\n",
    "print(\"CED\\t% f\\t% f\\t% f\\t% f\"%(dff1,dff1-df1,dff2,dff2-df2))"
   ]
  },
  {
   "cell_type": "code",
   "execution_count": 26,
   "id": "d448ba28",
   "metadata": {},
   "outputs": [
    {
     "data": {
      "image/png": "[encoded data removed]",
      "text/plain": [
       "<Figure size 432x288 with 1 Axes>"
      ]
     },
     "metadata": {
      "needs_background": "light"
     },
     "output_type": "display_data"
    }
   ],
   "source": [
    "mport inumpy as np\n",
    "import matplotlib.pyplot as plt\n",
    "f= lambda x: 0.1*x**5 - 0.2*x**3 + 0.1*x - 0.2\n",
    "h=0.001\n",
    "x= np.linspace(-1,1,60)\n",
    "#backward differnce\n",
    "dff1 = (f(x)-f(x-h))/h\n",
    "dff2 = (f(x)-2*f(x-h)+f(x-2*h))/h**2\n",
    "#plot\n",
    "plt.plot(x,f(x),'-k',x,dff1,'--b',x,dff2,'-.r')\n",
    "plt.xlabel('x')\n",
    "plt.ylabel('y')\n",
    "plt.legend([\"f(x)\",\"f'(x)\",\"f''(x)\"])\n",
    "plt.grid()\n"
   ]
  },
  {
   "cell_type": "code",
   "execution_count": null,
   "id": "2a463044",
   "metadata": {},
   "outputs": [],
   "source": []
  }
 ],
 "metadata": {
  "kernelspec": {
   "display_name": "Python 3 (ipykernel)",
   "language": "python",
   "name": "python3"
  },
  "language_info": {
   "codemirror_mode": {
    "name": "ipython",
    "version": 3
   },
   "file_extension": ".py",
   "mimetype": "text/x-python",
   "name": "python",
   "nbconvert_exporter": "python",
   "pygments_lexer": "ipython3",
   "version": "3.9.7"
  }
 },
 "nbformat": 4,
 "nbformat_minor": 5
}
